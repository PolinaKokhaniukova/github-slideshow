{
  "nbformat": 4,
  "nbformat_minor": 0,
  "metadata": {
    "colab": {
      "name": "7.6 AB test.ipynb",
      "provenance": [],
      "authorship_tag": "ABX9TyM6THvJKGHFWXyb/45F/gpW",
      "include_colab_link": true
    },
    "kernelspec": {
      "name": "python3",
      "display_name": "Python 3"
    },
    "language_info": {
      "name": "python"
    }
  },
  "cells": [
    {
      "cell_type": "markdown",
      "metadata": {
        "id": "view-in-github",
        "colab_type": "text"
      },
      "source": [
        "<a href=\"https://colab.research.google.com/github/PolinaKokhaniukova/github-slideshow/blob/master/7_6_AB_test.ipynb\" target=\"_parent\"><img src=\"https://colab.research.google.com/assets/colab-badge.svg\" alt=\"Open In Colab\"/></a>"
      ]
    },
    {
      "cell_type": "code",
      "metadata": {
        "id": "TlcAbPxlYflP"
      },
      "source": [
        "import pandas as pd\n",
        "import numpy as np\n",
        "import seaborn as sns\n",
        "import matplotlib.pyplot as plt"
      ],
      "execution_count": 34,
      "outputs": []
    },
    {
      "cell_type": "code",
      "metadata": {
        "id": "ODiu4Fv7YflV"
      },
      "source": [
        "#data = pd.read_csv('clickstrem.csv')\n",
        "#data['timestamp'] = pd.to_datetime(data['InvoiceDate'])"
      ],
      "execution_count": null,
      "outputs": []
    },
    {
      "cell_type": "code",
      "metadata": {
        "colab": {
          "base_uri": "https://localhost:8080/"
        },
        "id": "Hv7HEGrI0XVg",
        "outputId": "9a50c672-d264-4992-9864-61361997f9a2"
      },
      "source": [
        "from google.colab import drive\n",
        "drive.mount('/content/drive', force_remount=True)"
      ],
      "execution_count": 73,
      "outputs": [
        {
          "output_type": "stream",
          "text": [
            "Mounted at /content/drive\n"
          ],
          "name": "stdout"
        }
      ]
    },
    {
      "cell_type": "code",
      "metadata": {
        "id": "_Jj-Mrl70mHk"
      },
      "source": [
        "import pandas as pd\n",
        "df = pd.read_csv('drive/My Drive/clickstream.csv')"
      ],
      "execution_count": 39,
      "outputs": []
    },
    {
      "cell_type": "code",
      "metadata": {
        "id": "_9LhQ5Re0vAq"
      },
      "source": [
        "import csv\n",
        "file_path = 'drive/My Drive/clickstream.csv'"
      ],
      "execution_count": 75,
      "outputs": []
    },
    {
      "cell_type": "code",
      "metadata": {
        "id": "sN9-L7T300CC"
      },
      "source": [
        "with open(file_path, mode = 'r') as csv_file:\n",
        "    csv_reader = csv.DictReader(csv_file, fieldnames = ['ID', 'page', 'date'])"
      ],
      "execution_count": 76,
      "outputs": []
    },
    {
      "cell_type": "code",
      "metadata": {
        "id": "jnx0EiTa04nj"
      },
      "source": [
        "data = pd.read_csv('drive/My Drive/clickstream.csv')"
      ],
      "execution_count": 77,
      "outputs": []
    },
    {
      "cell_type": "code",
      "metadata": {
        "id": "E2nZn-sYZop4",
        "colab": {
          "base_uri": "https://localhost:8080/",
          "height": 419
        },
        "outputId": "d00898b2-0e68-46ad-8f15-0a6a8d01b061"
      },
      "source": [
        "data.head(100)"
      ],
      "execution_count": 78,
      "outputs": [
        {
          "output_type": "execute_result",
          "data": {
            "text/html": [
              "<div>\n",
              "<style scoped>\n",
              "    .dataframe tbody tr th:only-of-type {\n",
              "        vertical-align: middle;\n",
              "    }\n",
              "\n",
              "    .dataframe tbody tr th {\n",
              "        vertical-align: top;\n",
              "    }\n",
              "\n",
              "    .dataframe thead th {\n",
              "        text-align: right;\n",
              "    }\n",
              "</style>\n",
              "<table border=\"1\" class=\"dataframe\">\n",
              "  <thead>\n",
              "    <tr style=\"text-align: right;\">\n",
              "      <th></th>\n",
              "      <th>client_id</th>\n",
              "      <th>timestamp</th>\n",
              "      <th>event</th>\n",
              "      <th>event_metadata</th>\n",
              "      <th>card_type_used</th>\n",
              "      <th>cart</th>\n",
              "    </tr>\n",
              "  </thead>\n",
              "  <tbody>\n",
              "    <tr>\n",
              "      <th>0</th>\n",
              "      <td>796175212</td>\n",
              "      <td>2018-07-01 00:10:10.356057239</td>\n",
              "      <td>main</td>\n",
              "      <td>{'source: organic'}</td>\n",
              "      <td>NaN</td>\n",
              "      <td>NaN</td>\n",
              "    </tr>\n",
              "    <tr>\n",
              "      <th>1</th>\n",
              "      <td>796175212</td>\n",
              "      <td>2018-07-01 00:10:11.272860768</td>\n",
              "      <td>onboarding_main</td>\n",
              "      <td>NaN</td>\n",
              "      <td>NaN</td>\n",
              "      <td>NaN</td>\n",
              "    </tr>\n",
              "    <tr>\n",
              "      <th>2</th>\n",
              "      <td>796175212</td>\n",
              "      <td>2018-07-01 00:10:17.112819955</td>\n",
              "      <td>main</td>\n",
              "      <td>NaN</td>\n",
              "      <td>NaN</td>\n",
              "      <td>NaN</td>\n",
              "    </tr>\n",
              "    <tr>\n",
              "      <th>3</th>\n",
              "      <td>796175212</td>\n",
              "      <td>2018-07-01 00:10:19.543343496</td>\n",
              "      <td>lost</td>\n",
              "      <td>NaN</td>\n",
              "      <td>NaN</td>\n",
              "      <td>NaN</td>\n",
              "    </tr>\n",
              "    <tr>\n",
              "      <th>4</th>\n",
              "      <td>419515020</td>\n",
              "      <td>2018-07-01 00:33:47.067460089</td>\n",
              "      <td>products</td>\n",
              "      <td>{'source: facebook'}</td>\n",
              "      <td>NaN</td>\n",
              "      <td>NaN</td>\n",
              "    </tr>\n",
              "    <tr>\n",
              "      <th>...</th>\n",
              "      <td>...</td>\n",
              "      <td>...</td>\n",
              "      <td>...</td>\n",
              "      <td>...</td>\n",
              "      <td>...</td>\n",
              "      <td>...</td>\n",
              "    </tr>\n",
              "    <tr>\n",
              "      <th>95</th>\n",
              "      <td>304863183</td>\n",
              "      <td>2018-07-01 01:43:58.481779979</td>\n",
              "      <td>main</td>\n",
              "      <td>NaN</td>\n",
              "      <td>NaN</td>\n",
              "      <td>NaN</td>\n",
              "    </tr>\n",
              "    <tr>\n",
              "      <th>96</th>\n",
              "      <td>304863183</td>\n",
              "      <td>2018-07-01 01:44:01.283568976</td>\n",
              "      <td>products</td>\n",
              "      <td>NaN</td>\n",
              "      <td>NaN</td>\n",
              "      <td>NaN</td>\n",
              "    </tr>\n",
              "    <tr>\n",
              "      <th>97</th>\n",
              "      <td>304863183</td>\n",
              "      <td>2018-07-01 01:44:04.916105798</td>\n",
              "      <td>product3</td>\n",
              "      <td>NaN</td>\n",
              "      <td>NaN</td>\n",
              "      <td>NaN</td>\n",
              "    </tr>\n",
              "    <tr>\n",
              "      <th>98</th>\n",
              "      <td>304863183</td>\n",
              "      <td>2018-07-01 01:44:52.342786701</td>\n",
              "      <td>lost</td>\n",
              "      <td>NaN</td>\n",
              "      <td>NaN</td>\n",
              "      <td>NaN</td>\n",
              "    </tr>\n",
              "    <tr>\n",
              "      <th>99</th>\n",
              "      <td>680687203</td>\n",
              "      <td>2018-07-01 01:45:31.165645102</td>\n",
              "      <td>main</td>\n",
              "      <td>{'source: organic'}</td>\n",
              "      <td>NaN</td>\n",
              "      <td>NaN</td>\n",
              "    </tr>\n",
              "  </tbody>\n",
              "</table>\n",
              "<p>100 rows × 6 columns</p>\n",
              "</div>"
            ],
            "text/plain": [
              "    client_id                      timestamp  ... card_type_used cart\n",
              "0   796175212  2018-07-01 00:10:10.356057239  ...            NaN  NaN\n",
              "1   796175212  2018-07-01 00:10:11.272860768  ...            NaN  NaN\n",
              "2   796175212  2018-07-01 00:10:17.112819955  ...            NaN  NaN\n",
              "3   796175212  2018-07-01 00:10:19.543343496  ...            NaN  NaN\n",
              "4   419515020  2018-07-01 00:33:47.067460089  ...            NaN  NaN\n",
              "..        ...                            ...  ...            ...  ...\n",
              "95  304863183  2018-07-01 01:43:58.481779979  ...            NaN  NaN\n",
              "96  304863183  2018-07-01 01:44:01.283568976  ...            NaN  NaN\n",
              "97  304863183  2018-07-01 01:44:04.916105798  ...            NaN  NaN\n",
              "98  304863183  2018-07-01 01:44:52.342786701  ...            NaN  NaN\n",
              "99  680687203  2018-07-01 01:45:31.165645102  ...            NaN  NaN\n",
              "\n",
              "[100 rows x 6 columns]"
            ]
          },
          "metadata": {
            "tags": []
          },
          "execution_count": 78
        }
      ]
    },
    {
      "cell_type": "code",
      "metadata": {
        "colab": {
          "base_uri": "https://localhost:8080/",
          "height": 204
        },
        "id": "NL1zYAkfONr8",
        "outputId": "6eeed612-6d0a-460d-a4e6-60bf99e79e65"
      },
      "source": [
        "timestamp_ab = clickstream.query(\"timestamp >= '2019-09-02' & timestamp <= '2019-09-30'\")\n",
        "timestamp_ab.head()"
      ],
      "execution_count": 91,
      "outputs": [
        {
          "output_type": "execute_result",
          "data": {
            "text/html": [
              "<div>\n",
              "<style scoped>\n",
              "    .dataframe tbody tr th:only-of-type {\n",
              "        vertical-align: middle;\n",
              "    }\n",
              "\n",
              "    .dataframe tbody tr th {\n",
              "        vertical-align: top;\n",
              "    }\n",
              "\n",
              "    .dataframe thead th {\n",
              "        text-align: right;\n",
              "    }\n",
              "</style>\n",
              "<table border=\"1\" class=\"dataframe\">\n",
              "  <thead>\n",
              "    <tr style=\"text-align: right;\">\n",
              "      <th></th>\n",
              "      <th>client_id</th>\n",
              "      <th>timestamp</th>\n",
              "      <th>event</th>\n",
              "      <th>event_metadata</th>\n",
              "      <th>card_type_used</th>\n",
              "      <th>cart</th>\n",
              "    </tr>\n",
              "  </thead>\n",
              "  <tbody>\n",
              "    <tr>\n",
              "      <th>2301173</th>\n",
              "      <td>294042545</td>\n",
              "      <td>2019-09-02 00:03:58.532762344</td>\n",
              "      <td>products</td>\n",
              "      <td>{'source: organic'}</td>\n",
              "      <td>NaN</td>\n",
              "      <td>NaN</td>\n",
              "    </tr>\n",
              "    <tr>\n",
              "      <th>2301174</th>\n",
              "      <td>294042545</td>\n",
              "      <td>2019-09-02 00:03:59.767865226</td>\n",
              "      <td>main</td>\n",
              "      <td>NaN</td>\n",
              "      <td>NaN</td>\n",
              "      <td>NaN</td>\n",
              "    </tr>\n",
              "    <tr>\n",
              "      <th>2301175</th>\n",
              "      <td>294042545</td>\n",
              "      <td>2019-09-02 00:04:02.362878633</td>\n",
              "      <td>lost</td>\n",
              "      <td>NaN</td>\n",
              "      <td>NaN</td>\n",
              "      <td>NaN</td>\n",
              "    </tr>\n",
              "    <tr>\n",
              "      <th>2301176</th>\n",
              "      <td>134390951</td>\n",
              "      <td>2019-09-02 00:05:51.136832586</td>\n",
              "      <td>products</td>\n",
              "      <td>{'source: organic'}</td>\n",
              "      <td>NaN</td>\n",
              "      <td>NaN</td>\n",
              "    </tr>\n",
              "    <tr>\n",
              "      <th>2301177</th>\n",
              "      <td>134390951</td>\n",
              "      <td>2019-09-02 00:06:12.840263320</td>\n",
              "      <td>products</td>\n",
              "      <td>NaN</td>\n",
              "      <td>NaN</td>\n",
              "      <td>NaN</td>\n",
              "    </tr>\n",
              "  </tbody>\n",
              "</table>\n",
              "</div>"
            ],
            "text/plain": [
              "         client_id                      timestamp  ... card_type_used cart\n",
              "2301173  294042545  2019-09-02 00:03:58.532762344  ...            NaN  NaN\n",
              "2301174  294042545  2019-09-02 00:03:59.767865226  ...            NaN  NaN\n",
              "2301175  294042545  2019-09-02 00:04:02.362878633  ...            NaN  NaN\n",
              "2301176  134390951  2019-09-02 00:05:51.136832586  ...            NaN  NaN\n",
              "2301177  134390951  2019-09-02 00:06:12.840263320  ...            NaN  NaN\n",
              "\n",
              "[5 rows x 6 columns]"
            ]
          },
          "metadata": {
            "tags": []
          },
          "execution_count": 91
        }
      ]
    },
    {
      "cell_type": "code",
      "metadata": {
        "id": "T3e75ufFSxMh"
      },
      "source": [
        ""
      ],
      "execution_count": null,
      "outputs": []
    },
    {
      "cell_type": "code",
      "metadata": {
        "colab": {
          "base_uri": "https://localhost:8080/"
        },
        "id": "GO9_ETztSNEy",
        "outputId": "b351cae8-993f-407f-939f-65b9cb9261a9"
      },
      "source": [
        "#data['client_id'].drop_duplicates()\n",
        "data['client_id'].value_counts()"
      ],
      "execution_count": 89,
      "outputs": [
        {
          "output_type": "execute_result",
          "data": {
            "text/plain": [
              "423140735    366\n",
              "580223562    364\n",
              "531284653    356\n",
              "380932842    352\n",
              "652981073    349\n",
              "            ... \n",
              "742190523      2\n",
              "679380470      2\n",
              "651323498      2\n",
              "349364347      2\n",
              "750895160      2\n",
              "Name: client_id, Length: 192182, dtype: int64"
            ]
          },
          "metadata": {
            "tags": []
          },
          "execution_count": 89
        }
      ]
    },
    {
      "cell_type": "code",
      "metadata": {
        "colab": {
          "base_uri": "https://localhost:8080/"
        },
        "id": "AQKn0zmlZGwK",
        "outputId": "9d2b6dfc-44f2-4a52-cfc7-b6a7dc99200d"
      },
      "source": [
        "timestamp_ab['client_id'].value_counts()"
      ],
      "execution_count": 92,
      "outputs": [
        {
          "output_type": "execute_result",
          "data": {
            "text/plain": [
              "205968525    137\n",
              "189512331    137\n",
              "228354857    116\n",
              "612678224    103\n",
              "730642869     98\n",
              "            ... \n",
              "944729661      2\n",
              "139831012      2\n",
              "703969725      2\n",
              "520964277      2\n",
              "935942141      2\n",
              "Name: client_id, Length: 16226, dtype: int64"
            ]
          },
          "metadata": {
            "tags": []
          },
          "execution_count": 92
        }
      ]
    },
    {
      "cell_type": "code",
      "metadata": {
        "colab": {
          "base_uri": "https://localhost:8080/"
        },
        "id": "jIPntmXdTgoA",
        "outputId": "ac552a5c-00d9-4388-ed4e-0011fb59f3b0"
      },
      "source": [
        "from google.colab import drive\n",
        "drive.mount('/content/drive', force_remount=True)"
      ],
      "execution_count": 42,
      "outputs": [
        {
          "output_type": "stream",
          "text": [
            "Mounted at /content/drive\n"
          ],
          "name": "stdout"
        }
      ]
    },
    {
      "cell_type": "code",
      "metadata": {
        "id": "788xeP2-TgoB"
      },
      "source": [
        "import pandas as pd\n",
        "df = pd.read_csv('drive/My Drive/ab_save_card_2019-09-02_2019-09-30.csv')"
      ],
      "execution_count": 93,
      "outputs": []
    },
    {
      "cell_type": "code",
      "metadata": {
        "id": "zq33oTQ0TgoC"
      },
      "source": [
        "import csv\n",
        "file_path = 'drive/My Drive/ab_save_card_2019-09-02_2019-09-30.csv'"
      ],
      "execution_count": 40,
      "outputs": []
    },
    {
      "cell_type": "code",
      "metadata": {
        "id": "FljpPcwhTgoC"
      },
      "source": [
        "data = pd.read_csv('drive/My Drive/ab_save_card_2019-09-02_2019-09-30.csv')"
      ],
      "execution_count": 41,
      "outputs": []
    },
    {
      "cell_type": "code",
      "metadata": {
        "colab": {
          "base_uri": "https://localhost:8080/",
          "height": 204
        },
        "id": "-CV4yAr5T7Ou",
        "outputId": "bdd5367c-69af-4bee-a718-6c2c1c8254f0"
      },
      "source": [
        "data.head()"
      ],
      "execution_count": 42,
      "outputs": [
        {
          "output_type": "execute_result",
          "data": {
            "text/html": [
              "<div>\n",
              "<style scoped>\n",
              "    .dataframe tbody tr th:only-of-type {\n",
              "        vertical-align: middle;\n",
              "    }\n",
              "\n",
              "    .dataframe tbody tr th {\n",
              "        vertical-align: top;\n",
              "    }\n",
              "\n",
              "    .dataframe thead th {\n",
              "        text-align: right;\n",
              "    }\n",
              "</style>\n",
              "<table border=\"1\" class=\"dataframe\">\n",
              "  <thead>\n",
              "    <tr style=\"text-align: right;\">\n",
              "      <th></th>\n",
              "      <th>client_id</th>\n",
              "    </tr>\n",
              "  </thead>\n",
              "  <tbody>\n",
              "    <tr>\n",
              "      <th>0</th>\n",
              "      <td>294042545</td>\n",
              "    </tr>\n",
              "    <tr>\n",
              "      <th>1</th>\n",
              "      <td>134390951</td>\n",
              "    </tr>\n",
              "    <tr>\n",
              "      <th>2</th>\n",
              "      <td>9463642</td>\n",
              "    </tr>\n",
              "    <tr>\n",
              "      <th>3</th>\n",
              "      <td>818383160</td>\n",
              "    </tr>\n",
              "    <tr>\n",
              "      <th>4</th>\n",
              "      <td>433173698</td>\n",
              "    </tr>\n",
              "  </tbody>\n",
              "</table>\n",
              "</div>"
            ],
            "text/plain": [
              "   client_id\n",
              "0  294042545\n",
              "1  134390951\n",
              "2    9463642\n",
              "3  818383160\n",
              "4  433173698"
            ]
          },
          "metadata": {
            "tags": []
          },
          "execution_count": 42
        }
      ]
    },
    {
      "cell_type": "code",
      "metadata": {
        "colab": {
          "base_uri": "https://localhost:8080/"
        },
        "id": "Dc5DKF_jUAAj",
        "outputId": "daafe8cc-9c61-42a9-d71f-90ab7d6224b8"
      },
      "source": [
        "data['client_id'].value_counts()"
      ],
      "execution_count": 43,
      "outputs": [
        {
          "output_type": "execute_result",
          "data": {
            "text/plain": [
              "659473009    1\n",
              "371181002    1\n",
              "612464084    1\n",
              "607927765    1\n",
              "830137814    1\n",
              "            ..\n",
              "951157509    1\n",
              "793496072    1\n",
              "891466901    1\n",
              "469650188    1\n",
              "459032465    1\n",
              "Name: client_id, Length: 8349, dtype: int64"
            ]
          },
          "metadata": {
            "tags": []
          },
          "execution_count": 43
        }
      ]
    },
    {
      "cell_type": "markdown",
      "metadata": {
        "id": "xGWcuIq4UFPw"
      },
      "source": [
        "Сравнила данные двух таблиц. Общее количество юзеров из первого списка 192182. При этом количество юзеров в период с 02.09.2019 по 30.09.2019 составило 16226. В группу для тестирования вошло 8349 участников, что составляет  51,4% от общего числа. Можно сказать, что группы для тестированя были достаточно одиноковыми по размеру."
      ]
    },
    {
      "cell_type": "code",
      "metadata": {
        "id": "-hgpd7OLZwV8"
      },
      "source": [
        "ab_test = pd.read_csv('drive/My Drive/ab_save_card_2019-09-02_2019-09-30.csv')"
      ],
      "execution_count": 44,
      "outputs": []
    },
    {
      "cell_type": "code",
      "metadata": {
        "id": "8jGn8re6ZxOb"
      },
      "source": [
        "clickstream = pd.read_csv('drive/My Drive/clickstream.csv')"
      ],
      "execution_count": 45,
      "outputs": []
    },
    {
      "cell_type": "markdown",
      "metadata": {
        "id": "kyqccZkB3QiP"
      },
      "source": [
        "Соединим две таблицы в одну, выберем все данные из общей талбицы по тем клиентам, которые были задействованы в AB тестировании."
      ]
    },
    {
      "cell_type": "code",
      "metadata": {
        "id": "f-NExu5byyj7"
      },
      "source": [
        "pivot_ab_test_df = pd.merge(clickstream, ab_test, how='inner', on='client_id', right_index=True)\n"
      ],
      "execution_count": 46,
      "outputs": []
    },
    {
      "cell_type": "code",
      "metadata": {
        "colab": {
          "base_uri": "https://localhost:8080/"
        },
        "id": "qWljamNrzIwG",
        "outputId": "6ea59793-1160-4715-be78-e6e27938b993"
      },
      "source": [
        "pivot_ab_test_df.columns\n",
        "(['client_id', 'time_stamp', 'event', 'event_metadata',\n",
        "       'card_type_used', 'cart'])"
      ],
      "execution_count": 47,
      "outputs": [
        {
          "output_type": "execute_result",
          "data": {
            "text/plain": [
              "['client_id',\n",
              " 'time_stamp',\n",
              " 'event',\n",
              " 'event_metadata',\n",
              " 'card_type_used',\n",
              " 'cart']"
            ]
          },
          "metadata": {
            "tags": []
          },
          "execution_count": 47
        }
      ]
    },
    {
      "cell_type": "code",
      "metadata": {
        "colab": {
          "base_uri": "https://localhost:8080/",
          "height": 419
        },
        "id": "CYJ83axnzQb3",
        "outputId": "d9a4d2a1-c4dc-4005-926e-c8c5e4a6264b"
      },
      "source": [
        "pivot_ab_test_df.head(100)"
      ],
      "execution_count": 48,
      "outputs": [
        {
          "output_type": "execute_result",
          "data": {
            "text/html": [
              "<div>\n",
              "<style scoped>\n",
              "    .dataframe tbody tr th:only-of-type {\n",
              "        vertical-align: middle;\n",
              "    }\n",
              "\n",
              "    .dataframe tbody tr th {\n",
              "        vertical-align: top;\n",
              "    }\n",
              "\n",
              "    .dataframe thead th {\n",
              "        text-align: right;\n",
              "    }\n",
              "</style>\n",
              "<table border=\"1\" class=\"dataframe\">\n",
              "  <thead>\n",
              "    <tr style=\"text-align: right;\">\n",
              "      <th></th>\n",
              "      <th>client_id</th>\n",
              "      <th>timestamp</th>\n",
              "      <th>event</th>\n",
              "      <th>event_metadata</th>\n",
              "      <th>card_type_used</th>\n",
              "      <th>cart</th>\n",
              "    </tr>\n",
              "  </thead>\n",
              "  <tbody>\n",
              "    <tr>\n",
              "      <th>2770</th>\n",
              "      <td>406834357</td>\n",
              "      <td>2018-07-01 21:28:17.404653940</td>\n",
              "      <td>products</td>\n",
              "      <td>{'source: yandex'}</td>\n",
              "      <td>NaN</td>\n",
              "      <td>NaN</td>\n",
              "    </tr>\n",
              "    <tr>\n",
              "      <th>2771</th>\n",
              "      <td>406834357</td>\n",
              "      <td>2018-07-01 21:28:23.552795969</td>\n",
              "      <td>main</td>\n",
              "      <td>NaN</td>\n",
              "      <td>NaN</td>\n",
              "      <td>NaN</td>\n",
              "    </tr>\n",
              "    <tr>\n",
              "      <th>2772</th>\n",
              "      <td>406834357</td>\n",
              "      <td>2018-07-01 21:28:33.825899044</td>\n",
              "      <td>onboarding_main</td>\n",
              "      <td>NaN</td>\n",
              "      <td>NaN</td>\n",
              "      <td>NaN</td>\n",
              "    </tr>\n",
              "    <tr>\n",
              "      <th>2773</th>\n",
              "      <td>406834357</td>\n",
              "      <td>2018-07-01 21:28:35.647399787</td>\n",
              "      <td>main</td>\n",
              "      <td>NaN</td>\n",
              "      <td>NaN</td>\n",
              "      <td>NaN</td>\n",
              "    </tr>\n",
              "    <tr>\n",
              "      <th>2774</th>\n",
              "      <td>406834357</td>\n",
              "      <td>2018-07-01 21:28:36.293936857</td>\n",
              "      <td>products</td>\n",
              "      <td>NaN</td>\n",
              "      <td>NaN</td>\n",
              "      <td>NaN</td>\n",
              "    </tr>\n",
              "    <tr>\n",
              "      <th>...</th>\n",
              "      <td>...</td>\n",
              "      <td>...</td>\n",
              "      <td>...</td>\n",
              "      <td>...</td>\n",
              "      <td>...</td>\n",
              "      <td>...</td>\n",
              "    </tr>\n",
              "    <tr>\n",
              "      <th>1611513</th>\n",
              "      <td>406834357</td>\n",
              "      <td>2019-05-06 08:09:37.860076354</td>\n",
              "      <td>payment_done</td>\n",
              "      <td>NaN</td>\n",
              "      <td>NaN</td>\n",
              "      <td>{'product5': 1}</td>\n",
              "    </tr>\n",
              "    <tr>\n",
              "      <th>1731056</th>\n",
              "      <td>406834357</td>\n",
              "      <td>2019-05-26 22:59:41.663400789</td>\n",
              "      <td>products</td>\n",
              "      <td>{'source: organic'}</td>\n",
              "      <td>NaN</td>\n",
              "      <td>NaN</td>\n",
              "    </tr>\n",
              "    <tr>\n",
              "      <th>1731057</th>\n",
              "      <td>406834357</td>\n",
              "      <td>2019-05-26 22:59:47.405484364</td>\n",
              "      <td>products</td>\n",
              "      <td>NaN</td>\n",
              "      <td>NaN</td>\n",
              "      <td>NaN</td>\n",
              "    </tr>\n",
              "    <tr>\n",
              "      <th>1731058</th>\n",
              "      <td>406834357</td>\n",
              "      <td>2019-05-26 23:00:07.733422697</td>\n",
              "      <td>product3</td>\n",
              "      <td>NaN</td>\n",
              "      <td>NaN</td>\n",
              "      <td>NaN</td>\n",
              "    </tr>\n",
              "    <tr>\n",
              "      <th>1731059</th>\n",
              "      <td>406834357</td>\n",
              "      <td>2019-05-26 23:00:12.688651000</td>\n",
              "      <td>product3/cart/add</td>\n",
              "      <td>NaN</td>\n",
              "      <td>NaN</td>\n",
              "      <td>NaN</td>\n",
              "    </tr>\n",
              "  </tbody>\n",
              "</table>\n",
              "<p>100 rows × 6 columns</p>\n",
              "</div>"
            ],
            "text/plain": [
              "         client_id  ...             cart\n",
              "2770     406834357  ...              NaN\n",
              "2771     406834357  ...              NaN\n",
              "2772     406834357  ...              NaN\n",
              "2773     406834357  ...              NaN\n",
              "2774     406834357  ...              NaN\n",
              "...            ...  ...              ...\n",
              "1611513  406834357  ...  {'product5': 1}\n",
              "1731056  406834357  ...              NaN\n",
              "1731057  406834357  ...              NaN\n",
              "1731058  406834357  ...              NaN\n",
              "1731059  406834357  ...              NaN\n",
              "\n",
              "[100 rows x 6 columns]"
            ]
          },
          "metadata": {
            "tags": []
          },
          "execution_count": 48
        }
      ]
    },
    {
      "cell_type": "code",
      "metadata": {
        "colab": {
          "base_uri": "https://localhost:8080/"
        },
        "id": "kN-kCYsizw78",
        "outputId": "b58e2e85-0e4e-4e75-d470-361425b32496"
      },
      "source": [
        "pivot_ab_test_df['client_id'].value_counts()"
      ],
      "execution_count": 49,
      "outputs": [
        {
          "output_type": "execute_result",
          "data": {
            "text/plain": [
              "531284653    356\n",
              "685699068    315\n",
              "803952627    310\n",
              "827949315    302\n",
              "65927458     301\n",
              "            ... \n",
              "362689474      2\n",
              "947198433      2\n",
              "259421444      2\n",
              "998230516      2\n",
              "208379680      2\n",
              "Name: client_id, Length: 8349, dtype: int64"
            ]
          },
          "metadata": {
            "tags": []
          },
          "execution_count": 49
        }
      ]
    },
    {
      "cell_type": "markdown",
      "metadata": {
        "id": "6YlZU46s3oWR"
      },
      "source": [
        "Попытаемся найти особенности группы, на основании которых она была выделена для тестирования."
      ]
    },
    {
      "cell_type": "code",
      "metadata": {
        "colab": {
          "base_uri": "https://localhost:8080/"
        },
        "id": "RYx6fz5Za1eH",
        "outputId": "546303fc-1673-422f-d592-b783a06d7f9d"
      },
      "source": [
        "pivot_ab_test_df['event'].value_counts()"
      ],
      "execution_count": 50,
      "outputs": [
        {
          "output_type": "execute_result",
          "data": {
            "text/plain": [
              "products              88088\n",
              "cart                  23662\n",
              "lost                  21354\n",
              "main                  19403\n",
              "product5              19135\n",
              "product3              15151\n",
              "product2              10654\n",
              "onboarding_main        8032\n",
              "product1               7073\n",
              "product4               5160\n",
              "delivery_choice        3013\n",
              "product3/cart/add      2901\n",
              "payment_choice         1863\n",
              "product2/cart/add      1501\n",
              "payment_done           1371\n",
              "delivery_pickup        1060\n",
              "product1/cart/add      1038\n",
              "product5/cart/add       982\n",
              "delivery_courier        779\n",
              "payment_card            769\n",
              "payment_cash            705\n",
              "input_card_success      677\n",
              "product4/cart/add       276\n",
              "payment_paypal          221\n",
              "cart/delete             172\n",
              "delivery_conv           105\n",
              "Name: event, dtype: int64"
            ]
          },
          "metadata": {
            "tags": []
          },
          "execution_count": 50
        }
      ]
    },
    {
      "cell_type": "code",
      "metadata": {
        "colab": {
          "base_uri": "https://localhost:8080/"
        },
        "id": "zeYW5LkSb4rt",
        "outputId": "bc4999ff-d534-499c-e0c8-dbf4a64e9064"
      },
      "source": [
        "!pip3 install 'retentioneering==2.0'"
      ],
      "execution_count": 1,
      "outputs": [
        {
          "output_type": "stream",
          "text": [
            "Requirement already satisfied: retentioneering==2.0 in /usr/local/lib/python3.7/dist-packages (2.0.0)\n",
            "Requirement already satisfied: numpy>=1.19.1 in /usr/local/lib/python3.7/dist-packages (from retentioneering==2.0) (1.19.5)\n",
            "Requirement already satisfied: plotly in /usr/local/lib/python3.7/dist-packages (from retentioneering==2.0) (4.4.1)\n",
            "Requirement already satisfied: vega in /usr/local/lib/python3.7/dist-packages (from retentioneering==2.0) (3.4.0)\n",
            "Requirement already satisfied: tqdm in /usr/local/lib/python3.7/dist-packages (from retentioneering==2.0) (4.41.1)\n",
            "Requirement already satisfied: seaborn>=0.11.0 in /usr/local/lib/python3.7/dist-packages (from retentioneering==2.0) (0.11.1)\n",
            "Requirement already satisfied: matplotlib in /usr/local/lib/python3.7/dist-packages (from retentioneering==2.0) (3.3.1)\n",
            "Requirement already satisfied: scipy in /usr/local/lib/python3.7/dist-packages (from retentioneering==2.0) (1.4.1)\n",
            "Requirement already satisfied: altair in /usr/local/lib/python3.7/dist-packages (from retentioneering==2.0) (4.1.0)\n",
            "Requirement already satisfied: pymongo in /usr/local/lib/python3.7/dist-packages (from retentioneering==2.0) (3.11.4)\n",
            "Requirement already satisfied: pandas>=1.1.1 in /usr/local/lib/python3.7/dist-packages (from retentioneering==2.0) (1.1.5)\n",
            "Requirement already satisfied: umap-learn in /usr/local/lib/python3.7/dist-packages (from retentioneering==2.0) (0.5.1)\n",
            "Requirement already satisfied: scikit-learn>=0.23.2 in /usr/local/lib/python3.7/dist-packages (from retentioneering==2.0) (0.24.2)\n",
            "Requirement already satisfied: networkx>=2.4 in /usr/local/lib/python3.7/dist-packages (from retentioneering==2.0) (2.5.1)\n",
            "Requirement already satisfied: six in /usr/local/lib/python3.7/dist-packages (from plotly->retentioneering==2.0) (1.15.0)\n",
            "Requirement already satisfied: retrying>=1.3.3 in /usr/local/lib/python3.7/dist-packages (from plotly->retentioneering==2.0) (1.3.3)\n",
            "Requirement already satisfied: jupyter<2.0.0,>=1.0.0 in /usr/local/lib/python3.7/dist-packages (from vega->retentioneering==2.0) (1.0.0)\n",
            "Requirement already satisfied: python-dateutil>=2.1 in /usr/local/lib/python3.7/dist-packages (from matplotlib->retentioneering==2.0) (2.8.1)\n",
            "Requirement already satisfied: pyparsing!=2.0.4,!=2.1.2,!=2.1.6,>=2.0.3 in /usr/local/lib/python3.7/dist-packages (from matplotlib->retentioneering==2.0) (2.4.7)\n",
            "Requirement already satisfied: certifi>=2020.06.20 in /usr/local/lib/python3.7/dist-packages (from matplotlib->retentioneering==2.0) (2020.12.5)\n",
            "Requirement already satisfied: cycler>=0.10 in /usr/local/lib/python3.7/dist-packages (from matplotlib->retentioneering==2.0) (0.10.0)\n",
            "Requirement already satisfied: kiwisolver>=1.0.1 in /usr/local/lib/python3.7/dist-packages (from matplotlib->retentioneering==2.0) (1.3.1)\n",
            "Requirement already satisfied: pillow>=6.2.0 in /usr/local/lib/python3.7/dist-packages (from matplotlib->retentioneering==2.0) (7.1.2)\n",
            "Requirement already satisfied: jinja2 in /usr/local/lib/python3.7/dist-packages (from altair->retentioneering==2.0) (2.11.3)\n",
            "Requirement already satisfied: jsonschema in /usr/local/lib/python3.7/dist-packages (from altair->retentioneering==2.0) (2.6.0)\n",
            "Requirement already satisfied: entrypoints in /usr/local/lib/python3.7/dist-packages (from altair->retentioneering==2.0) (0.3)\n",
            "Requirement already satisfied: toolz in /usr/local/lib/python3.7/dist-packages (from altair->retentioneering==2.0) (0.11.1)\n",
            "Requirement already satisfied: pytz>=2017.2 in /usr/local/lib/python3.7/dist-packages (from pandas>=1.1.1->retentioneering==2.0) (2018.9)\n",
            "Requirement already satisfied: pynndescent>=0.5 in /usr/local/lib/python3.7/dist-packages (from umap-learn->retentioneering==2.0) (0.5.2)\n",
            "Requirement already satisfied: numba>=0.49 in /usr/local/lib/python3.7/dist-packages (from umap-learn->retentioneering==2.0) (0.51.2)\n",
            "Requirement already satisfied: threadpoolctl>=2.0.0 in /usr/local/lib/python3.7/dist-packages (from scikit-learn>=0.23.2->retentioneering==2.0) (2.1.0)\n",
            "Requirement already satisfied: joblib>=0.11 in /usr/local/lib/python3.7/dist-packages (from scikit-learn>=0.23.2->retentioneering==2.0) (1.0.1)\n",
            "Requirement already satisfied: decorator<5,>=4.3 in /usr/local/lib/python3.7/dist-packages (from networkx>=2.4->retentioneering==2.0) (4.4.2)\n",
            "Requirement already satisfied: jupyter-console in /usr/local/lib/python3.7/dist-packages (from jupyter<2.0.0,>=1.0.0->vega->retentioneering==2.0) (5.2.0)\n",
            "Requirement already satisfied: ipykernel in /usr/local/lib/python3.7/dist-packages (from jupyter<2.0.0,>=1.0.0->vega->retentioneering==2.0) (4.10.1)\n",
            "Requirement already satisfied: nbconvert in /usr/local/lib/python3.7/dist-packages (from jupyter<2.0.0,>=1.0.0->vega->retentioneering==2.0) (5.6.1)\n",
            "Requirement already satisfied: ipywidgets in /usr/local/lib/python3.7/dist-packages (from jupyter<2.0.0,>=1.0.0->vega->retentioneering==2.0) (7.6.3)\n",
            "Requirement already satisfied: notebook in /usr/local/lib/python3.7/dist-packages (from jupyter<2.0.0,>=1.0.0->vega->retentioneering==2.0) (5.3.1)\n",
            "Requirement already satisfied: qtconsole in /usr/local/lib/python3.7/dist-packages (from jupyter<2.0.0,>=1.0.0->vega->retentioneering==2.0) (5.1.0)\n",
            "Requirement already satisfied: MarkupSafe>=0.23 in /usr/local/lib/python3.7/dist-packages (from jinja2->altair->retentioneering==2.0) (2.0.0)\n",
            "Requirement already satisfied: llvmlite>=0.30 in /usr/local/lib/python3.7/dist-packages (from pynndescent>=0.5->umap-learn->retentioneering==2.0) (0.34.0)\n",
            "Requirement already satisfied: setuptools in /usr/local/lib/python3.7/dist-packages (from numba>=0.49->umap-learn->retentioneering==2.0) (56.1.0)\n",
            "Requirement already satisfied: pygments in /usr/local/lib/python3.7/dist-packages (from jupyter-console->jupyter<2.0.0,>=1.0.0->vega->retentioneering==2.0) (2.6.1)\n",
            "Requirement already satisfied: prompt-toolkit<2.0.0,>=1.0.0 in /usr/local/lib/python3.7/dist-packages (from jupyter-console->jupyter<2.0.0,>=1.0.0->vega->retentioneering==2.0) (1.0.18)\n",
            "Requirement already satisfied: jupyter-client in /usr/local/lib/python3.7/dist-packages (from jupyter-console->jupyter<2.0.0,>=1.0.0->vega->retentioneering==2.0) (5.3.5)\n",
            "Requirement already satisfied: ipython in /usr/local/lib/python3.7/dist-packages (from jupyter-console->jupyter<2.0.0,>=1.0.0->vega->retentioneering==2.0) (5.5.0)\n",
            "Requirement already satisfied: traitlets>=4.1.0 in /usr/local/lib/python3.7/dist-packages (from ipykernel->jupyter<2.0.0,>=1.0.0->vega->retentioneering==2.0) (5.0.5)\n",
            "Requirement already satisfied: tornado>=4.0 in /usr/local/lib/python3.7/dist-packages (from ipykernel->jupyter<2.0.0,>=1.0.0->vega->retentioneering==2.0) (5.1.1)\n",
            "Requirement already satisfied: pandocfilters>=1.4.1 in /usr/local/lib/python3.7/dist-packages (from nbconvert->jupyter<2.0.0,>=1.0.0->vega->retentioneering==2.0) (1.4.3)\n",
            "Requirement already satisfied: bleach in /usr/local/lib/python3.7/dist-packages (from nbconvert->jupyter<2.0.0,>=1.0.0->vega->retentioneering==2.0) (3.3.0)\n",
            "Requirement already satisfied: mistune<2,>=0.8.1 in /usr/local/lib/python3.7/dist-packages (from nbconvert->jupyter<2.0.0,>=1.0.0->vega->retentioneering==2.0) (0.8.4)\n",
            "Requirement already satisfied: defusedxml in /usr/local/lib/python3.7/dist-packages (from nbconvert->jupyter<2.0.0,>=1.0.0->vega->retentioneering==2.0) (0.7.1)\n",
            "Requirement already satisfied: testpath in /usr/local/lib/python3.7/dist-packages (from nbconvert->jupyter<2.0.0,>=1.0.0->vega->retentioneering==2.0) (0.4.4)\n",
            "Requirement already satisfied: jupyter-core in /usr/local/lib/python3.7/dist-packages (from nbconvert->jupyter<2.0.0,>=1.0.0->vega->retentioneering==2.0) (4.7.1)\n",
            "Requirement already satisfied: nbformat>=4.4 in /usr/local/lib/python3.7/dist-packages (from nbconvert->jupyter<2.0.0,>=1.0.0->vega->retentioneering==2.0) (5.1.3)\n",
            "Requirement already satisfied: jupyterlab-widgets>=1.0.0; python_version >= \"3.6\" in /usr/local/lib/python3.7/dist-packages (from ipywidgets->jupyter<2.0.0,>=1.0.0->vega->retentioneering==2.0) (1.0.0)\n",
            "Requirement already satisfied: widgetsnbextension~=3.5.0 in /usr/local/lib/python3.7/dist-packages (from ipywidgets->jupyter<2.0.0,>=1.0.0->vega->retentioneering==2.0) (3.5.1)\n",
            "Requirement already satisfied: Send2Trash in /usr/local/lib/python3.7/dist-packages (from notebook->jupyter<2.0.0,>=1.0.0->vega->retentioneering==2.0) (1.5.0)\n",
            "Requirement already satisfied: terminado>=0.8.1 in /usr/local/lib/python3.7/dist-packages (from notebook->jupyter<2.0.0,>=1.0.0->vega->retentioneering==2.0) (0.9.5)\n",
            "Requirement already satisfied: ipython-genutils in /usr/local/lib/python3.7/dist-packages (from notebook->jupyter<2.0.0,>=1.0.0->vega->retentioneering==2.0) (0.2.0)\n",
            "Requirement already satisfied: pyzmq>=17.1 in /usr/local/lib/python3.7/dist-packages (from qtconsole->jupyter<2.0.0,>=1.0.0->vega->retentioneering==2.0) (22.0.3)\n",
            "Requirement already satisfied: qtpy in /usr/local/lib/python3.7/dist-packages (from qtconsole->jupyter<2.0.0,>=1.0.0->vega->retentioneering==2.0) (1.9.0)\n",
            "Requirement already satisfied: wcwidth in /usr/local/lib/python3.7/dist-packages (from prompt-toolkit<2.0.0,>=1.0.0->jupyter-console->jupyter<2.0.0,>=1.0.0->vega->retentioneering==2.0) (0.2.5)\n",
            "Requirement already satisfied: pexpect; sys_platform != \"win32\" in /usr/local/lib/python3.7/dist-packages (from ipython->jupyter-console->jupyter<2.0.0,>=1.0.0->vega->retentioneering==2.0) (4.8.0)\n",
            "Requirement already satisfied: pickleshare in /usr/local/lib/python3.7/dist-packages (from ipython->jupyter-console->jupyter<2.0.0,>=1.0.0->vega->retentioneering==2.0) (0.7.5)\n",
            "Requirement already satisfied: simplegeneric>0.8 in /usr/local/lib/python3.7/dist-packages (from ipython->jupyter-console->jupyter<2.0.0,>=1.0.0->vega->retentioneering==2.0) (0.8.1)\n",
            "Requirement already satisfied: webencodings in /usr/local/lib/python3.7/dist-packages (from bleach->nbconvert->jupyter<2.0.0,>=1.0.0->vega->retentioneering==2.0) (0.5.1)\n",
            "Requirement already satisfied: packaging in /usr/local/lib/python3.7/dist-packages (from bleach->nbconvert->jupyter<2.0.0,>=1.0.0->vega->retentioneering==2.0) (20.9)\n",
            "Requirement already satisfied: ptyprocess; os_name != \"nt\" in /usr/local/lib/python3.7/dist-packages (from terminado>=0.8.1->notebook->jupyter<2.0.0,>=1.0.0->vega->retentioneering==2.0) (0.7.0)\n"
          ],
          "name": "stdout"
        }
      ]
    },
    {
      "cell_type": "code",
      "metadata": {
        "id": "ay7fdRfocLEF"
      },
      "source": [
        "import retentioneering\n",
        "import io\n",
        "%matplotlib inline\n",
        "import matplotlib.pyplot as plt\n",
        "import warnings\n",
        "warnings.filterwarnings('ignore')\n",
        "import IPython\n",
        "import pandas as pd\n",
        "import numpy as np\n",
        "import seaborn as sns\n"
      ],
      "execution_count": 23,
      "outputs": []
    },
    {
      "cell_type": "code",
      "metadata": {
        "id": "fap8HSR109z3"
      },
      "source": [
        "retentioneering.config.update({\n",
        "    'event_col':'event',\n",
        "    'event_time_col':'timestamp',\n",
        "    'user_col': 'client_id'\n",
        "})"
      ],
      "execution_count": 24,
      "outputs": []
    },
    {
      "cell_type": "code",
      "metadata": {
        "id": "S49yMP_5e8P3"
      },
      "source": [
        "data = 'pivot_ab_test_df'"
      ],
      "execution_count": 25,
      "outputs": []
    },
    {
      "cell_type": "code",
      "metadata": {
        "colab": {
          "base_uri": "https://localhost:8080/",
          "height": 198
        },
        "id": "V7KDOyrEc7LQ",
        "outputId": "fb3f0652-d936-4679-e6a7-e5c41b142f0d"
      },
      "source": [
        "IPython.display.HTML(data\n",
        " .retention\n",
        " .plot_graph(thresh=0.1, width=800, height=800))"
      ],
      "execution_count": 13,
      "outputs": [
        {
          "output_type": "error",
          "ename": "AttributeError",
          "evalue": "ignored",
          "traceback": [
            "\u001b[0;31m---------------------------------------------------------------------------\u001b[0m",
            "\u001b[0;31mAttributeError\u001b[0m                            Traceback (most recent call last)",
            "\u001b[0;32m<ipython-input-13-cf6c9677c5f5>\u001b[0m in \u001b[0;36m<module>\u001b[0;34m()\u001b[0m\n\u001b[0;32m----> 1\u001b[0;31m IPython.display.HTML(data\n\u001b[0m\u001b[1;32m      2\u001b[0m  \u001b[0;34m.\u001b[0m\u001b[0mretention\u001b[0m\u001b[0;34m\u001b[0m\u001b[0;34m\u001b[0m\u001b[0m\n\u001b[1;32m      3\u001b[0m  .plot_graph(thresh=0.1, width=800, height=800))\n",
            "\u001b[0;31mAttributeError\u001b[0m: 'str' object has no attribute 'retention'"
          ]
        }
      ]
    },
    {
      "cell_type": "code",
      "metadata": {
        "colab": {
          "base_uri": "https://localhost:8080/",
          "height": 198
        },
        "id": "eAWvElOF4aHL",
        "outputId": "a096c728-6a8b-4ce5-fa0c-7ee2982f732b"
      },
      "source": [
        "IPython.display.HTML(data\n",
        " .rete\n",
        " .plot_graph(thresh=0.1, width=800, height=800))"
      ],
      "execution_count": 26,
      "outputs": [
        {
          "output_type": "error",
          "ename": "AttributeError",
          "evalue": "ignored",
          "traceback": [
            "\u001b[0;31m---------------------------------------------------------------------------\u001b[0m",
            "\u001b[0;31mAttributeError\u001b[0m                            Traceback (most recent call last)",
            "\u001b[0;32m<ipython-input-26-83d4b09e8775>\u001b[0m in \u001b[0;36m<module>\u001b[0;34m()\u001b[0m\n\u001b[0;32m----> 1\u001b[0;31m IPython.display.HTML(data\n\u001b[0m\u001b[1;32m      2\u001b[0m  \u001b[0;34m.\u001b[0m\u001b[0mrete\u001b[0m\u001b[0;34m\u001b[0m\u001b[0;34m\u001b[0m\u001b[0m\n\u001b[1;32m      3\u001b[0m  .plot_graph(thresh=0.1, width=800, height=800))\n",
            "\u001b[0;31mAttributeError\u001b[0m: 'str' object has no attribute 'rete'"
          ]
        }
      ]
    },
    {
      "cell_type": "code",
      "metadata": {
        "colab": {
          "base_uri": "https://localhost:8080/",
          "height": 232
        },
        "id": "Bmpzu3uZj31J",
        "outputId": "5e224e6d-e714-4cbe-c168-35c6cf5a6e3d"
      },
      "source": [
        "IPython.display.HTML(\n",
        "data.rete.plot_graph(thresh=0.01,\n",
        "                     targets = {'payment_done':'green',\n",
        "                                'lost':'red'}\n",
        "                    )\n",
        ")"
      ],
      "execution_count": 27,
      "outputs": [
        {
          "output_type": "error",
          "ename": "AttributeError",
          "evalue": "ignored",
          "traceback": [
            "\u001b[0;31m---------------------------------------------------------------------------\u001b[0m",
            "\u001b[0;31mAttributeError\u001b[0m                            Traceback (most recent call last)",
            "\u001b[0;32m<ipython-input-27-ec734d70ac29>\u001b[0m in \u001b[0;36m<module>\u001b[0;34m()\u001b[0m\n\u001b[1;32m      1\u001b[0m IPython.display.HTML(\n\u001b[0;32m----> 2\u001b[0;31m data.rete.plot_graph(thresh=0.01,\n\u001b[0m\u001b[1;32m      3\u001b[0m                      targets = {'payment_done':'green',\n\u001b[1;32m      4\u001b[0m                                 'lost':'red'}\n\u001b[1;32m      5\u001b[0m                     )\n",
            "\u001b[0;31mAttributeError\u001b[0m: 'str' object has no attribute 'rete'"
          ]
        }
      ]
    },
    {
      "cell_type": "code",
      "metadata": {
        "colab": {
          "base_uri": "https://localhost:8080/",
          "height": 232
        },
        "id": "AQksMN0hkiev",
        "outputId": "af52fd65-a688-4eed-e8c0-dabb838caa72"
      },
      "source": [
        "data.rete.plot_graph(norm_type='full',\n",
        "                     weight_col='client_id',\n",
        "                     thresh=0.06,\n",
        "                     targets = {'payment_done':'green',\n",
        "                                'lost':'red'})\n"
      ],
      "execution_count": 16,
      "outputs": [
        {
          "output_type": "error",
          "ename": "AttributeError",
          "evalue": "ignored",
          "traceback": [
            "\u001b[0;31m---------------------------------------------------------------------------\u001b[0m",
            "\u001b[0;31mAttributeError\u001b[0m                            Traceback (most recent call last)",
            "\u001b[0;32m<ipython-input-16-c44c7d253647>\u001b[0m in \u001b[0;36m<module>\u001b[0;34m()\u001b[0m\n\u001b[0;32m----> 1\u001b[0;31m data.rete.plot_graph(norm_type='full',\n\u001b[0m\u001b[1;32m      2\u001b[0m                      \u001b[0mweight_col\u001b[0m\u001b[0;34m=\u001b[0m\u001b[0;34m'client_id'\u001b[0m\u001b[0;34m,\u001b[0m\u001b[0;34m\u001b[0m\u001b[0;34m\u001b[0m\u001b[0m\n\u001b[1;32m      3\u001b[0m                      \u001b[0mthresh\u001b[0m\u001b[0;34m=\u001b[0m\u001b[0;36m0.06\u001b[0m\u001b[0;34m,\u001b[0m\u001b[0;34m\u001b[0m\u001b[0;34m\u001b[0m\u001b[0m\n\u001b[1;32m      4\u001b[0m                      targets = {'payment_done':'green',\n\u001b[1;32m      5\u001b[0m                                 'lost':'red'})\n",
            "\u001b[0;31mAttributeError\u001b[0m: 'str' object has no attribute 'rete'"
          ]
        }
      ]
    },
    {
      "cell_type": "code",
      "metadata": {
        "colab": {
          "base_uri": "https://localhost:8080/"
        },
        "id": "U7-DLlsW1gkp",
        "outputId": "684c6aea-6b25-43c8-844a-447ac9038b3f"
      },
      "source": [
        "!pip show retentioneering"
      ],
      "execution_count": 17,
      "outputs": [
        {
          "output_type": "stream",
          "text": [
            "Name: retentioneering\n",
            "Version: 2.0.0\n",
            "Summary: Product analytics and marketing optimization framework based on deep user trajectories analysis\n",
            "Home-page: https://github.com/retentioneering/retentioneering-tools\n",
            "Author: Retentioneering User Trajectory Analysis Lab\n",
            "Author-email: retentioneering@gmail.com\n",
            "License: Retentioneering Software Non-Exclusive, Non-Commercial Use License (License)\n",
            "Location: /usr/local/lib/python3.7/dist-packages\n",
            "Requires: pymongo, umap-learn, vega, plotly, scipy, tqdm, matplotlib, altair, scikit-learn, networkx, seaborn, matplotlib, numpy, pandas\n",
            "Required-by: \n"
          ],
          "name": "stdout"
        }
      ]
    },
    {
      "cell_type": "code",
      "metadata": {
        "colab": {
          "base_uri": "https://localhost:8080/",
          "height": 232
        },
        "id": "18wJtfmy838J",
        "outputId": "211544ce-fbe8-448d-cf63-6c47a39dbba0"
      },
      "source": [
        "df = data.rete.get_adjacency(weight_col='client_id', norm_type=None)\n",
        "\n",
        "import seaborn as sns\n",
        "\n",
        "#from IPython.html import widgets\n",
        "from IPython.display import HTML\n",
        "def rotateheader():\n",
        "    return  [\n",
        "      #  dict(selector=\"th.col_heading\",\n",
        "    #             props=[(\"writing-mode\", \"vertical-rl\"), \n",
        "     #                   ('transform', 'rotateZ(-45deg)'),\n",
        "     #                   ])\n",
        "     dict(selector=\"th\", props=[(\"font-size\", \"75%\"),\n",
        "                            (\"text-align\", \"right\")\n",
        "                         \n",
        "                          ]),\n",
        "        dict(selector=\"th.col_heading\", props=[(\"font-size\", \"75%\"),\n",
        "                            (\"text-align\", \"center\"),\n",
        "                          (\"transform\", \"translate(0%,-140%) rotate(-15deg)\")\n",
        "                          ]),\n",
        "             dict(selector=\"caption\", props=[(\"caption-side\", \"bottom\")])\n",
        "]\n",
        " \n",
        "\n",
        "cm = sns.light_palette(\"green\", as_cmap=True)\n",
        "print(\"\\n\\n\\n\")\n",
        "df.style.background_gradient(cmap=cm).set_table_styles(rotateheader()).set_caption(\" .\")"
      ],
      "execution_count": 19,
      "outputs": [
        {
          "output_type": "error",
          "ename": "AttributeError",
          "evalue": "ignored",
          "traceback": [
            "\u001b[0;31m---------------------------------------------------------------------------\u001b[0m",
            "\u001b[0;31mAttributeError\u001b[0m                            Traceback (most recent call last)",
            "\u001b[0;32m<ipython-input-19-40c94033e7b2>\u001b[0m in \u001b[0;36m<module>\u001b[0;34m()\u001b[0m\n\u001b[0;32m----> 1\u001b[0;31m \u001b[0mdf\u001b[0m \u001b[0;34m=\u001b[0m \u001b[0mdata\u001b[0m\u001b[0;34m.\u001b[0m\u001b[0mrete\u001b[0m\u001b[0;34m.\u001b[0m\u001b[0mget_adjacency\u001b[0m\u001b[0;34m(\u001b[0m\u001b[0mweight_col\u001b[0m\u001b[0;34m=\u001b[0m\u001b[0;34m'client_id'\u001b[0m\u001b[0;34m,\u001b[0m \u001b[0mnorm_type\u001b[0m\u001b[0;34m=\u001b[0m\u001b[0;32mNone\u001b[0m\u001b[0;34m)\u001b[0m\u001b[0;34m\u001b[0m\u001b[0;34m\u001b[0m\u001b[0m\n\u001b[0m\u001b[1;32m      2\u001b[0m \u001b[0;34m\u001b[0m\u001b[0m\n\u001b[1;32m      3\u001b[0m \u001b[0;32mimport\u001b[0m \u001b[0mseaborn\u001b[0m \u001b[0;32mas\u001b[0m \u001b[0msns\u001b[0m\u001b[0;34m\u001b[0m\u001b[0;34m\u001b[0m\u001b[0m\n\u001b[1;32m      4\u001b[0m \u001b[0;34m\u001b[0m\u001b[0m\n\u001b[1;32m      5\u001b[0m \u001b[0;31m#from IPython.html import widgets\u001b[0m\u001b[0;34m\u001b[0m\u001b[0;34m\u001b[0m\u001b[0;34m\u001b[0m\u001b[0m\n",
            "\u001b[0;31mAttributeError\u001b[0m: 'str' object has no attribute 'rete'"
          ]
        }
      ]
    },
    {
      "cell_type": "code",
      "metadata": {
        "colab": {
          "base_uri": "https://localhost:8080/",
          "height": 181
        },
        "id": "2LW8BXao9eAy",
        "outputId": "daf7713f-619d-411d-f4ad-57bd0094ea29"
      },
      "source": [
        "edgelist = data.rete.get_edgelist(weight_col='client_id', edge_attributes='users_nunique', norm_type=None)\n",
        "edgelist.sort_values('users_nunique', ascending=False).head(5)"
      ],
      "execution_count": 20,
      "outputs": [
        {
          "output_type": "error",
          "ename": "AttributeError",
          "evalue": "ignored",
          "traceback": [
            "\u001b[0;31m---------------------------------------------------------------------------\u001b[0m",
            "\u001b[0;31mAttributeError\u001b[0m                            Traceback (most recent call last)",
            "\u001b[0;32m<ipython-input-20-3e85e7ed4b79>\u001b[0m in \u001b[0;36m<module>\u001b[0;34m()\u001b[0m\n\u001b[0;32m----> 1\u001b[0;31m \u001b[0medgelist\u001b[0m \u001b[0;34m=\u001b[0m \u001b[0mdata\u001b[0m\u001b[0;34m.\u001b[0m\u001b[0mrete\u001b[0m\u001b[0;34m.\u001b[0m\u001b[0mget_edgelist\u001b[0m\u001b[0;34m(\u001b[0m\u001b[0mweight_col\u001b[0m\u001b[0;34m=\u001b[0m\u001b[0;34m'client_id'\u001b[0m\u001b[0;34m,\u001b[0m \u001b[0medge_attributes\u001b[0m\u001b[0;34m=\u001b[0m\u001b[0;34m'users_nunique'\u001b[0m\u001b[0;34m,\u001b[0m \u001b[0mnorm_type\u001b[0m\u001b[0;34m=\u001b[0m\u001b[0;32mNone\u001b[0m\u001b[0;34m)\u001b[0m\u001b[0;34m\u001b[0m\u001b[0;34m\u001b[0m\u001b[0m\n\u001b[0m\u001b[1;32m      2\u001b[0m \u001b[0medgelist\u001b[0m\u001b[0;34m.\u001b[0m\u001b[0msort_values\u001b[0m\u001b[0;34m(\u001b[0m\u001b[0;34m'users_nunique'\u001b[0m\u001b[0;34m,\u001b[0m \u001b[0mascending\u001b[0m\u001b[0;34m=\u001b[0m\u001b[0;32mFalse\u001b[0m\u001b[0;34m)\u001b[0m\u001b[0;34m.\u001b[0m\u001b[0mhead\u001b[0m\u001b[0;34m(\u001b[0m\u001b[0;36m5\u001b[0m\u001b[0;34m)\u001b[0m\u001b[0;34m\u001b[0m\u001b[0;34m\u001b[0m\u001b[0m\n",
            "\u001b[0;31mAttributeError\u001b[0m: 'str' object has no attribute 'rete'"
          ]
        }
      ]
    },
    {
      "cell_type": "code",
      "metadata": {
        "colab": {
          "base_uri": "https://localhost:8080/",
          "height": 164
        },
        "id": "FsMqqd8U9rNV",
        "outputId": "a6814ba0-584f-4a4c-a6f1-d753ffe277e3"
      },
      "source": [
        "data.rete.get_clusters(plot_type='cluster_bar', n_clusters=10, targets = ['ayment_done'], ngram_range=(1, 1));"
      ],
      "execution_count": 21,
      "outputs": [
        {
          "output_type": "error",
          "ename": "AttributeError",
          "evalue": "ignored",
          "traceback": [
            "\u001b[0;31m---------------------------------------------------------------------------\u001b[0m",
            "\u001b[0;31mAttributeError\u001b[0m                            Traceback (most recent call last)",
            "\u001b[0;32m<ipython-input-21-1ed7c693f874>\u001b[0m in \u001b[0;36m<module>\u001b[0;34m()\u001b[0m\n\u001b[0;32m----> 1\u001b[0;31m \u001b[0mdata\u001b[0m\u001b[0;34m.\u001b[0m\u001b[0mrete\u001b[0m\u001b[0;34m.\u001b[0m\u001b[0mget_clusters\u001b[0m\u001b[0;34m(\u001b[0m\u001b[0mplot_type\u001b[0m\u001b[0;34m=\u001b[0m\u001b[0;34m'cluster_bar'\u001b[0m\u001b[0;34m,\u001b[0m \u001b[0mn_clusters\u001b[0m\u001b[0;34m=\u001b[0m\u001b[0;36m10\u001b[0m\u001b[0;34m,\u001b[0m \u001b[0mtargets\u001b[0m \u001b[0;34m=\u001b[0m \u001b[0;34m[\u001b[0m\u001b[0;34m'ayment_done'\u001b[0m\u001b[0;34m]\u001b[0m\u001b[0;34m,\u001b[0m \u001b[0mngram_range\u001b[0m\u001b[0;34m=\u001b[0m\u001b[0;34m(\u001b[0m\u001b[0;36m1\u001b[0m\u001b[0;34m,\u001b[0m \u001b[0;36m1\u001b[0m\u001b[0;34m)\u001b[0m\u001b[0;34m)\u001b[0m\u001b[0;34m;\u001b[0m\u001b[0;34m\u001b[0m\u001b[0;34m\u001b[0m\u001b[0m\n\u001b[0m",
            "\u001b[0;31mAttributeError\u001b[0m: 'str' object has no attribute 'rete'"
          ]
        }
      ]
    }
  ]
}